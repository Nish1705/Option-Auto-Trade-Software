{
 "cells": [
  {
   "cell_type": "code",
   "execution_count": null,
   "metadata": {},
   "outputs": [],
   "source": [
    "import pandas as pd\n",
    "from pandas_datareader import data as wb\n",
    "import openpyxl\n",
    "from breeze_connect import BreezeConnect"
   ]
  },
  {
   "cell_type": "code",
   "execution_count": null,
   "metadata": {},
   "outputs": [],
   "source": [
    "session_token = '1744421'\n",
    "api_key = '6588c73p34F6^7A91VD4_3c328563!36'\n",
    "api_secret = '1!3#3OLWo0R^8217y381vq75R015G806'"
   ]
  },
  {
   "cell_type": "code",
   "execution_count": null,
   "metadata": {},
   "outputs": [],
   "source": [
    "breeze = BreezeConnect(api_key=api_key)\n",
    "breeze.generate_session(api_secret=api_secret,session_token=session_token)"
   ]
  },
  {
   "cell_type": "code",
   "execution_count": null,
   "metadata": {},
   "outputs": [],
   "source": [
    "stock_code = \"CNXBAN\"\n",
    "interval_spot = \"5minute\"\n",
    "interval_fno = \"1minute\"\n",
    "from_date = \"2021-10-27T07:00:00.000Z\"\n",
    "to_date = \"2021-10-28T07:00:00.000Z\"\n",
    "expiry_option=\"2021-10-28T07:00:00.000Z\""
   ]
  },
  {
   "cell_type": "code",
   "execution_count": null,
   "metadata": {},
   "outputs": [],
   "source": [
    "spot = pd.ExcelWriter('Spot.xlsx', engine='xlsxwriter')\n",
    "sdata = breeze.get_historical_data(interval=interval_spot,\n",
    "                                   from_date= from_date,\n",
    "                                   to_date= to_date,\n",
    "                                   stock_code=stock_code,\n",
    "                                   exchange_code=\"NSE\",\n",
    "                                   product_type=\"cash\",\n",
    "                                   )\n",
    "spotdata = pd.DataFrame(sdata['Success'])\n",
    "spotdata.to_excel(spot, sheet_name='Spot')\n",
    "spot.save()\n",
    "spotdata"
   ]
  },
  {
   "cell_type": "code",
   "execution_count": null,
   "metadata": {},
   "outputs": [],
   "source": [
    "futures = pd.ExcelWriter('Futures.xlsx', engine='xlsxwriter')\n",
    "n=1\n",
    "Expiry = [\"2021-10-28T07:00:00.000Z\",\"2021-11-25T07:00:00.000Z\"]\n",
    "\n",
    "for e in Expiry:\n",
    "\n",
    "    fdata = breeze.get_historical_data(interval=interval_fno,\n",
    "                            from_date= from_date,\n",
    "                            to_date= to_date,\n",
    "                            stock_code=stock_code,\n",
    "                            exchange_code=\"NFO\",\n",
    "                            product_type=\"futures\",\n",
    "                            expiry_date=e,\n",
    "                            right=\"others\",\n",
    "                            strike_price=\"0\")\n",
    "    futuresdata = pd.DataFrame(fdata['Success'])\n",
    "    print(futuresdata)\n",
    "    futuresdata.to_excel(futures, sheet_name='Futures',startrow=n)\n",
    "    n+=2000\n",
    "\n",
    "futures.save()"
   ]
  },
  {
   "cell_type": "code",
   "execution_count": null,
   "metadata": {},
   "outputs": [],
   "source": [
    "options = pd.ExcelWriter('Options.xlsx', engine='xlsxwriter')\n",
    "n=1\n",
    "m=1\n",
    "Strike = [\"40000\",\"40100\",\"40200\",\"40300\",\"40500\"]\n",
    "\n",
    "for s in Strike:\n",
    "\n",
    "    cdata = breeze.get_historical_data(interval=interval_fno,\n",
    "                                  from_date= from_date,\n",
    "                                  to_date= to_date,\n",
    "                                  stock_code=stock_code,\n",
    "                                  exchange_code=\"NFO\",\n",
    "                                  product_type=\"options\",\n",
    "                                  expiry_date=expiry_option,\n",
    "                                  right=\"call\",\n",
    "                                  strike_price=s)\n",
    "    calldata = pd.DataFrame(cdata['Success'])\n",
    "    print(calldata)\n",
    "    calldata.to_excel(options, sheet_name='Call',startrow=n)\n",
    "    n+=2000\n",
    "\n",
    "    pdata = breeze.get_historical_data(interval=interval_fno,\n",
    "                                  from_date= from_date,\n",
    "                                  to_date= to_date,\n",
    "                                  stock_code=stock_code,\n",
    "                                  exchange_code=\"NFO\",\n",
    "                                  product_type=\"options\",\n",
    "                                  expiry_date=expiry_option,\n",
    "                                  right=\"put\",\n",
    "                                  strike_price=s)\n",
    "    putdata = pd.DataFrame(pdata['Success'])\n",
    "    print(putdata)\n",
    "    putdata.to_excel(options, sheet_name='Put',startrow=m )\n",
    "    m+=2000\n",
    "    \n",
    "strikes.save()\n"
   ]
  }
 ],
 "metadata": {
  "kernelspec": {
   "display_name": "Python 3.9.13 64-bit",
   "language": "python",
   "name": "python3"
  },
  "language_info": {
   "codemirror_mode": {
    "name": "ipython",
    "version": 3
   },
   "file_extension": ".py",
   "mimetype": "text/x-python",
   "name": "python",
   "nbconvert_exporter": "python",
   "pygments_lexer": "ipython3",
   "version": "3.9.13"
  },
  "vscode": {
   "interpreter": {
    "hash": "31ab93476c576e847356f62557405486cc22b99a6ad72f8ff46f90271d884eb0"
   }
  }
 },
 "nbformat": 4,
 "nbformat_minor": 4
}
